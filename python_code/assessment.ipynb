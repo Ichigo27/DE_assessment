{
 "cells": [
  {
   "cell_type": "code",
   "execution_count": 32,
   "metadata": {},
   "outputs": [],
   "source": [
    "from gensim.models import KeyedVectors\n",
    "\n",
    "wv = KeyedVectors.load_word2vec_format('../GoogleNews-vectors-negative300.bin.gz', binary=True, limit=1000000) \n",
    "wv.save_word2vec_format('vectors.csv')"
   ]
  },
  {
   "cell_type": "code",
   "execution_count": 33,
   "metadata": {},
   "outputs": [
    {
     "data": {
      "text/html": [
       "<div>\n",
       "<style scoped>\n",
       "    .dataframe tbody tr th:only-of-type {\n",
       "        vertical-align: middle;\n",
       "    }\n",
       "\n",
       "    .dataframe tbody tr th {\n",
       "        vertical-align: top;\n",
       "    }\n",
       "\n",
       "    .dataframe thead th {\n",
       "        text-align: right;\n",
       "    }\n",
       "</style>\n",
       "<table border=\"1\" class=\"dataframe\">\n",
       "  <thead>\n",
       "    <tr style=\"text-align: right;\">\n",
       "      <th></th>\n",
       "      <th>Phrases</th>\n",
       "    </tr>\n",
       "  </thead>\n",
       "  <tbody>\n",
       "    <tr>\n",
       "      <th>0</th>\n",
       "      <td>how company compares to its peers?</td>\n",
       "    </tr>\n",
       "    <tr>\n",
       "      <th>1</th>\n",
       "      <td>what is the detailed income statement breakdow...</td>\n",
       "    </tr>\n",
       "    <tr>\n",
       "      <th>2</th>\n",
       "      <td>world premium penetration in 2020</td>\n",
       "    </tr>\n",
       "    <tr>\n",
       "      <th>3</th>\n",
       "      <td>How does the forecasted insurance premium pene...</td>\n",
       "    </tr>\n",
       "    <tr>\n",
       "      <th>4</th>\n",
       "      <td>what are the total losses for companies in cou...</td>\n",
       "    </tr>\n",
       "  </tbody>\n",
       "</table>\n",
       "</div>"
      ],
      "text/plain": [
       "                                             Phrases\n",
       "0                 how company compares to its peers?\n",
       "1  what is the detailed income statement breakdow...\n",
       "2                  world premium penetration in 2020\n",
       "3  How does the forecasted insurance premium pene...\n",
       "4  what are the total losses for companies in cou..."
      ]
     },
     "execution_count": 33,
     "metadata": {},
     "output_type": "execute_result"
    }
   ],
   "source": [
    "import pandas as pd\n",
    "\n",
    "phrases_df = pd.read_csv('phrases.csv', encoding= 'unicode_escape')\n",
    "phrases_df.head()"
   ]
  },
  {
   "cell_type": "code",
   "execution_count": 34,
   "metadata": {},
   "outputs": [],
   "source": [
    "import numpy as np\n",
    "\n",
    "def get_phrase_vector(phrase):\n",
    "    words = phrase.split()\n",
    "    vector_sum = np.zeros(wv.vector_size)\n",
    "    for word in words:\n",
    "        if word in wv:\n",
    "            vector_sum += wv[word]\n",
    "    return vector_sum / len(words)"
   ]
  },
  {
   "cell_type": "code",
   "execution_count": 35,
   "metadata": {},
   "outputs": [],
   "source": [
    "from sklearn.metrics.pairwise import cosine_similarity\n",
    "\n",
    "similarity_matrix = []\n",
    "for i in range(len(phrases_df)):\n",
    "    row = []\n",
    "    for j in range(len(phrases_df)):\n",
    "        vector1 = get_phrase_vector(phrases_df.iloc[i]['Phrases'])\n",
    "        vector2 = get_phrase_vector(phrases_df.iloc[j]['Phrases'])\n",
    "        similarity = cosine_similarity([vector1], [vector2])\n",
    "        row.append(similarity[0][0])\n",
    "    similarity_matrix.append(row)"
   ]
  },
  {
   "cell_type": "code",
   "execution_count": 36,
   "metadata": {},
   "outputs": [],
   "source": [
    "def find_closest_match(user_input, phrases_df):\n",
    "    user_vector = get_phrase_vector(user_input)\n",
    "    similarities = []\n",
    "    for phrase in phrases_df['Phrases']:\n",
    "        phrase_vector = get_phrase_vector(phrase)\n",
    "        similarity = cosine_similarity([user_vector], [phrase_vector])[0][0]\n",
    "        similarities.append(similarity)\n",
    "    closest_index = np.argmax(similarities)\n",
    "    closest_phrase = phrases_df.iloc[closest_index]['Phrases']\n",
    "    distance = 1 - similarities[closest_index]  \n",
    "    return closest_phrase, distance\n"
   ]
  },
  {
   "cell_type": "code",
   "execution_count": 37,
   "metadata": {},
   "outputs": [
    {
     "name": "stdout",
     "output_type": "stream",
     "text": [
      "Closest match:  How many passengers are carried in ?\n",
      "Distance to closest match:  0.1782007280129282\n"
     ]
    }
   ],
   "source": [
    "input_phrase = input('Enter a phrase: ')\n",
    "closest_phrase, distance = find_closest_match(input_phrase, phrases_df)\n",
    "print('Closest match: ', closest_phrase)\n",
    "print('Distance to closest match: ', distance)"
   ]
  }
 ],
 "metadata": {
  "kernelspec": {
   "display_name": ".venv",
   "language": "python",
   "name": "python3"
  },
  "language_info": {
   "codemirror_mode": {
    "name": "ipython",
    "version": 3
   },
   "file_extension": ".py",
   "mimetype": "text/x-python",
   "name": "python",
   "nbconvert_exporter": "python",
   "pygments_lexer": "ipython3",
   "version": "3.11.4"
  }
 },
 "nbformat": 4,
 "nbformat_minor": 2
}
